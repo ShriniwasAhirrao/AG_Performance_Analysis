{
 "cells": [
  {
   "cell_type": "code",
   "execution_count": 1,
   "id": "99e42dab-6211-42fa-9509-2f71fce9fd34",
   "metadata": {},
   "outputs": [],
   "source": [
    "import pandas as pd\n",
    "import numpy as np\n",
    "import matplotlib.pyplot as plt\n",
    "import seaborn as sns"
   ]
  },
  {
   "cell_type": "code",
   "execution_count": 2,
   "id": "134423b9-ef73-4eb7-adec-f8b48c8a57f3",
   "metadata": {},
   "outputs": [],
   "source": [
    "# File paths\n",
    "path_ali = r\"C:\\Users\\Dell\\Downloads\\Antarctica Global\\Assignment\\Dataset\\Data_Assignment_Ali.csv\"\n",
    "path_arya = r\"C:\\Users\\Dell\\Downloads\\Antarctica Global\\Assignment\\Dataset\\Data_Assignment_Arya.csv\"\n",
    "path_raj = r\"C:\\Users\\Dell\\Downloads\\Antarctica Global\\Assignment\\Dataset\\Data_Assignment_Raj.csv\"\n",
    "\n",
    "# Load CSV files\n",
    "ali_df = pd.read_csv(path_ali)\n",
    "arya_df = pd.read_csv(path_arya)\n",
    "raj_df = pd.read_csv(path_raj)\n"
   ]
  },
  {
   "cell_type": "code",
   "execution_count": 3,
   "id": "9299c29a-9ca4-47a8-91d8-c4e6e01b16db",
   "metadata": {},
   "outputs": [],
   "source": [
    "# creating new column name Employee \n",
    "ali_df['Employee'] = 'Ali'\n",
    "arya_df['Employee'] = 'Arya'\n",
    "raj_df['Employee'] = 'Raj'"
   ]
  },
  {
   "cell_type": "code",
   "execution_count": 31,
   "id": "ea93f0fa-8c41-44fc-8130-b1b75161d5e2",
   "metadata": {},
   "outputs": [
    {
     "name": "stdout",
     "output_type": "stream",
     "text": [
      "File saved successfully at: C:\\Users\\Dell\\Downloads\\Antarctica Global\\Assignment\\Dataset\\merged_dataset.xlsx\n"
     ]
    }
   ],
   "source": [
    "# Combine into one dataframe for unified analysis\n",
    "df = pd.concat([ali_df, arya_df, raj_df], ignore_index=True)\n",
    "output_path = r'C:\\Users\\Dell\\Downloads\\Antarctica Global\\Assignment\\Dataset\\merged_dataset.xlsx'\n",
    "df.to_excel(output_path, index=False)\n",
    "print(\"File saved successfully at:\", output_path)\n"
   ]
  },
  {
   "cell_type": "code",
   "execution_count": 5,
   "id": "00220693-7e58-4fbb-a6fc-c2f78e18e637",
   "metadata": {},
   "outputs": [
    {
     "data": {
      "text/html": [
       "<div>\n",
       "<style scoped>\n",
       "    .dataframe tbody tr th:only-of-type {\n",
       "        vertical-align: middle;\n",
       "    }\n",
       "\n",
       "    .dataframe tbody tr th {\n",
       "        vertical-align: top;\n",
       "    }\n",
       "\n",
       "    .dataframe thead th {\n",
       "        text-align: right;\n",
       "    }\n",
       "</style>\n",
       "<table border=\"1\" class=\"dataframe\">\n",
       "  <thead>\n",
       "    <tr style=\"text-align: right;\">\n",
       "      <th></th>\n",
       "      <th>Day</th>\n",
       "      <th>Date</th>\n",
       "      <th>Leads</th>\n",
       "      <th>Time spent on LG (mins)</th>\n",
       "      <th>Avg Time Per Lead (mins)</th>\n",
       "      <th>Daily Team Review</th>\n",
       "      <th>No. of Incomplete Leads</th>\n",
       "      <th>Employee</th>\n",
       "    </tr>\n",
       "  </thead>\n",
       "  <tbody>\n",
       "    <tr>\n",
       "      <th>0</th>\n",
       "      <td>Mon</td>\n",
       "      <td>12/06/2023</td>\n",
       "      <td>5.0</td>\n",
       "      <td>135.0</td>\n",
       "      <td>27.0</td>\n",
       "      <td>Attended</td>\n",
       "      <td>0.0</td>\n",
       "      <td>Ali</td>\n",
       "    </tr>\n",
       "    <tr>\n",
       "      <th>1</th>\n",
       "      <td>Tue</td>\n",
       "      <td>13/06/2023</td>\n",
       "      <td>9.0</td>\n",
       "      <td>210.0</td>\n",
       "      <td>23.0</td>\n",
       "      <td>Attended</td>\n",
       "      <td>3.0</td>\n",
       "      <td>Ali</td>\n",
       "    </tr>\n",
       "    <tr>\n",
       "      <th>2</th>\n",
       "      <td>Wed</td>\n",
       "      <td>14/06/2023</td>\n",
       "      <td>13.0</td>\n",
       "      <td>300.0</td>\n",
       "      <td>23.0</td>\n",
       "      <td>Attended</td>\n",
       "      <td>0.0</td>\n",
       "      <td>Ali</td>\n",
       "    </tr>\n",
       "    <tr>\n",
       "      <th>3</th>\n",
       "      <td>Thu</td>\n",
       "      <td>15/06/2023</td>\n",
       "      <td>9.0</td>\n",
       "      <td>360.0</td>\n",
       "      <td>40.0</td>\n",
       "      <td>Attended</td>\n",
       "      <td>0.0</td>\n",
       "      <td>Ali</td>\n",
       "    </tr>\n",
       "    <tr>\n",
       "      <th>4</th>\n",
       "      <td>Fri</td>\n",
       "      <td>16/06/2023</td>\n",
       "      <td>11.0</td>\n",
       "      <td>300.0</td>\n",
       "      <td>27.0</td>\n",
       "      <td>Attended</td>\n",
       "      <td>0.0</td>\n",
       "      <td>Ali</td>\n",
       "    </tr>\n",
       "  </tbody>\n",
       "</table>\n",
       "</div>"
      ],
      "text/plain": [
       "   Day        Date  Leads  Time spent on LG (mins)  Avg Time Per Lead (mins)  \\\n",
       "0  Mon  12/06/2023    5.0                    135.0                      27.0   \n",
       "1  Tue  13/06/2023    9.0                    210.0                      23.0   \n",
       "2  Wed  14/06/2023   13.0                    300.0                      23.0   \n",
       "3  Thu  15/06/2023    9.0                    360.0                      40.0   \n",
       "4  Fri  16/06/2023   11.0                    300.0                      27.0   \n",
       "\n",
       "  Daily Team Review  No. of Incomplete Leads Employee  \n",
       "0          Attended                      0.0      Ali  \n",
       "1          Attended                      3.0      Ali  \n",
       "2          Attended                      0.0      Ali  \n",
       "3          Attended                      0.0      Ali  \n",
       "4          Attended                      0.0      Ali  "
      ]
     },
     "execution_count": 5,
     "metadata": {},
     "output_type": "execute_result"
    }
   ],
   "source": [
    "# Preview first few rows\n",
    "df.head()\n"
   ]
  },
  {
   "cell_type": "code",
   "execution_count": 84,
   "id": "fa39751d-f8cd-4ea2-a6a9-e7f345469204",
   "metadata": {},
   "outputs": [
    {
     "name": "stdout",
     "output_type": "stream",
     "text": [
      "<class 'pandas.core.frame.DataFrame'>\n",
      "RangeIndex: 183 entries, 0 to 182\n",
      "Data columns (total 10 columns):\n",
      " #   Column                    Non-Null Count  Dtype         \n",
      "---  ------                    --------------  -----         \n",
      " 0   Day                       183 non-null    object        \n",
      " 1   Date                      183 non-null    datetime64[ns]\n",
      " 2   Leads                     183 non-null    int64         \n",
      " 3   Time spent on LG (mins)   183 non-null    int64         \n",
      " 4   Avg Time Per Lead (mins)  183 non-null    int64         \n",
      " 5   Daily Team Review         125 non-null    object        \n",
      " 6   No. of Incomplete Leads   183 non-null    int64         \n",
      " 7   Employee                  183 non-null    object        \n",
      " 8   Active_Status             183 non-null    object        \n",
      " 9   Days Since Start          183 non-null    int64         \n",
      "dtypes: datetime64[ns](1), int64(5), object(4)\n",
      "memory usage: 14.4+ KB\n"
     ]
    }
   ],
   "source": [
    "# Check data types\n",
    "df.info()"
   ]
  },
  {
   "cell_type": "code",
   "execution_count": 30,
   "id": "b78d577e-dac6-48a5-afad-79957a30d4b2",
   "metadata": {},
   "outputs": [
    {
     "name": "stdout",
     "output_type": "stream",
     "text": [
      "File saved successfully at: C:\\Users\\Dell\\Downloads\\Antarctica Global\\Assignment\\Dataset\\merged_dataset.xlsx\n"
     ]
    }
   ],
   "source": [
    "df['Date'] = pd.to_datetime(df['Date'], dayfirst=True)  # Assuming format is DD-MM-YYYY\n"
   ]
  },
  {
   "cell_type": "code",
   "execution_count": 9,
   "id": "bf5bc170-6619-4d09-b359-7430320fe87f",
   "metadata": {},
   "outputs": [
    {
     "name": "stdout",
     "output_type": "stream",
     "text": [
      "<class 'pandas.core.frame.DataFrame'>\n",
      "RangeIndex: 183 entries, 0 to 182\n",
      "Data columns (total 8 columns):\n",
      " #   Column                    Non-Null Count  Dtype         \n",
      "---  ------                    --------------  -----         \n",
      " 0   Day                       183 non-null    object        \n",
      " 1   Date                      183 non-null    datetime64[ns]\n",
      " 2   Leads                     123 non-null    float64       \n",
      " 3   Time spent on LG (mins)   123 non-null    float64       \n",
      " 4   Avg Time Per Lead (mins)  123 non-null    float64       \n",
      " 5   Daily Team Review         124 non-null    object        \n",
      " 6   No. of Incomplete Leads   124 non-null    float64       \n",
      " 7   Employee                  183 non-null    object        \n",
      "dtypes: datetime64[ns](1), float64(4), object(3)\n",
      "memory usage: 11.6+ KB\n"
     ]
    }
   ],
   "source": [
    "df.info()"
   ]
  },
  {
   "cell_type": "code",
   "execution_count": 11,
   "id": "3ca642b4-bd23-4ead-a4aa-aeb1b225e60d",
   "metadata": {},
   "outputs": [
    {
     "data": {
      "text/plain": [
       "Day                          0\n",
       "Date                         0\n",
       "Leads                       60\n",
       "Time spent on LG (mins)     60\n",
       "Avg Time Per Lead (mins)    60\n",
       "Daily Team Review           59\n",
       "No. of Incomplete Leads     59\n",
       "Employee                     0\n",
       "dtype: int64"
      ]
     },
     "execution_count": 11,
     "metadata": {},
     "output_type": "execute_result"
    }
   ],
   "source": [
    "# checking missing values\n",
    "df.isnull().sum()\n"
   ]
  },
  {
   "cell_type": "code",
   "execution_count": 33,
   "id": "b8e978b8-19db-4fb9-8869-390ca02ae4c2",
   "metadata": {},
   "outputs": [
    {
     "data": {
      "text/html": [
       "<div>\n",
       "<style scoped>\n",
       "    .dataframe tbody tr th:only-of-type {\n",
       "        vertical-align: middle;\n",
       "    }\n",
       "\n",
       "    .dataframe tbody tr th {\n",
       "        vertical-align: top;\n",
       "    }\n",
       "\n",
       "    .dataframe thead th {\n",
       "        text-align: right;\n",
       "    }\n",
       "</style>\n",
       "<table border=\"1\" class=\"dataframe\">\n",
       "  <thead>\n",
       "    <tr style=\"text-align: right;\">\n",
       "      <th></th>\n",
       "      <th>Day</th>\n",
       "      <th>Date</th>\n",
       "      <th>Leads</th>\n",
       "      <th>Time spent on LG (mins)</th>\n",
       "      <th>Avg Time Per Lead (mins)</th>\n",
       "      <th>Daily Team Review</th>\n",
       "      <th>No. of Incomplete Leads</th>\n",
       "      <th>Employee</th>\n",
       "    </tr>\n",
       "  </thead>\n",
       "  <tbody>\n",
       "    <tr>\n",
       "      <th>0</th>\n",
       "      <td>Mon</td>\n",
       "      <td>12/06/2023</td>\n",
       "      <td>5.0</td>\n",
       "      <td>135.0</td>\n",
       "      <td>27.0</td>\n",
       "      <td>Attended</td>\n",
       "      <td>0.0</td>\n",
       "      <td>Ali</td>\n",
       "    </tr>\n",
       "    <tr>\n",
       "      <th>1</th>\n",
       "      <td>Tue</td>\n",
       "      <td>13/06/2023</td>\n",
       "      <td>9.0</td>\n",
       "      <td>210.0</td>\n",
       "      <td>23.0</td>\n",
       "      <td>Attended</td>\n",
       "      <td>3.0</td>\n",
       "      <td>Ali</td>\n",
       "    </tr>\n",
       "    <tr>\n",
       "      <th>2</th>\n",
       "      <td>Wed</td>\n",
       "      <td>14/06/2023</td>\n",
       "      <td>13.0</td>\n",
       "      <td>300.0</td>\n",
       "      <td>23.0</td>\n",
       "      <td>Attended</td>\n",
       "      <td>0.0</td>\n",
       "      <td>Ali</td>\n",
       "    </tr>\n",
       "    <tr>\n",
       "      <th>3</th>\n",
       "      <td>Thu</td>\n",
       "      <td>15/06/2023</td>\n",
       "      <td>9.0</td>\n",
       "      <td>360.0</td>\n",
       "      <td>40.0</td>\n",
       "      <td>Attended</td>\n",
       "      <td>0.0</td>\n",
       "      <td>Ali</td>\n",
       "    </tr>\n",
       "    <tr>\n",
       "      <th>4</th>\n",
       "      <td>Fri</td>\n",
       "      <td>16/06/2023</td>\n",
       "      <td>11.0</td>\n",
       "      <td>300.0</td>\n",
       "      <td>27.0</td>\n",
       "      <td>Attended</td>\n",
       "      <td>0.0</td>\n",
       "      <td>Ali</td>\n",
       "    </tr>\n",
       "    <tr>\n",
       "      <th>5</th>\n",
       "      <td>Sat</td>\n",
       "      <td>17/06/2023</td>\n",
       "      <td>NaN</td>\n",
       "      <td>NaN</td>\n",
       "      <td>NaN</td>\n",
       "      <td>NaN</td>\n",
       "      <td>NaN</td>\n",
       "      <td>Ali</td>\n",
       "    </tr>\n",
       "    <tr>\n",
       "      <th>6</th>\n",
       "      <td>Sun</td>\n",
       "      <td>18/06/2023</td>\n",
       "      <td>NaN</td>\n",
       "      <td>NaN</td>\n",
       "      <td>NaN</td>\n",
       "      <td>NaN</td>\n",
       "      <td>NaN</td>\n",
       "      <td>Ali</td>\n",
       "    </tr>\n",
       "    <tr>\n",
       "      <th>7</th>\n",
       "      <td>Mon</td>\n",
       "      <td>19/06/2023</td>\n",
       "      <td>10.0</td>\n",
       "      <td>360.0</td>\n",
       "      <td>36.0</td>\n",
       "      <td>Attended</td>\n",
       "      <td>0.0</td>\n",
       "      <td>Ali</td>\n",
       "    </tr>\n",
       "    <tr>\n",
       "      <th>8</th>\n",
       "      <td>Tue</td>\n",
       "      <td>20/06/2023</td>\n",
       "      <td>14.0</td>\n",
       "      <td>360.0</td>\n",
       "      <td>26.0</td>\n",
       "      <td>Attended</td>\n",
       "      <td>0.0</td>\n",
       "      <td>Ali</td>\n",
       "    </tr>\n",
       "    <tr>\n",
       "      <th>9</th>\n",
       "      <td>Wed</td>\n",
       "      <td>21/06/2023</td>\n",
       "      <td>9.0</td>\n",
       "      <td>280.0</td>\n",
       "      <td>31.0</td>\n",
       "      <td>Attended</td>\n",
       "      <td>0.0</td>\n",
       "      <td>Ali</td>\n",
       "    </tr>\n",
       "  </tbody>\n",
       "</table>\n",
       "</div>"
      ],
      "text/plain": [
       "   Day        Date  Leads  Time spent on LG (mins)  Avg Time Per Lead (mins)  \\\n",
       "0  Mon  12/06/2023    5.0                    135.0                      27.0   \n",
       "1  Tue  13/06/2023    9.0                    210.0                      23.0   \n",
       "2  Wed  14/06/2023   13.0                    300.0                      23.0   \n",
       "3  Thu  15/06/2023    9.0                    360.0                      40.0   \n",
       "4  Fri  16/06/2023   11.0                    300.0                      27.0   \n",
       "5  Sat  17/06/2023    NaN                      NaN                       NaN   \n",
       "6  Sun  18/06/2023    NaN                      NaN                       NaN   \n",
       "7  Mon  19/06/2023   10.0                    360.0                      36.0   \n",
       "8  Tue  20/06/2023   14.0                    360.0                      26.0   \n",
       "9  Wed  21/06/2023    9.0                    280.0                      31.0   \n",
       "\n",
       "  Daily Team Review  No. of Incomplete Leads Employee  \n",
       "0          Attended                      0.0      Ali  \n",
       "1          Attended                      3.0      Ali  \n",
       "2          Attended                      0.0      Ali  \n",
       "3          Attended                      0.0      Ali  \n",
       "4          Attended                      0.0      Ali  \n",
       "5               NaN                      NaN      Ali  \n",
       "6               NaN                      NaN      Ali  \n",
       "7          Attended                      0.0      Ali  \n",
       "8          Attended                      0.0      Ali  \n",
       "9          Attended                      0.0      Ali  "
      ]
     },
     "execution_count": 33,
     "metadata": {},
     "output_type": "execute_result"
    }
   ],
   "source": [
    "df.head(10)\n"
   ]
  },
  {
   "cell_type": "code",
   "execution_count": 35,
   "id": "14b27179-b171-4082-a1a2-01f4fd079476",
   "metadata": {},
   "outputs": [
    {
     "name": "stdout",
     "output_type": "stream",
     "text": [
      "Numerical missing values filled with 0 and saved successfully.\n"
     ]
    }
   ],
   "source": [
    "# Load the dataset\n",
    "file_path = r'C:\\Users\\Dell\\Downloads\\Antarctica Global\\Assignment\\Dataset\\merged_dataset.xlsx'\n",
    "df = pd.read_excel(file_path)\n",
    "\n",
    "# Fill NaN values in numerical columns with 0\n",
    "num_cols = df.select_dtypes(include='number').columns\n",
    "df[num_cols] = df[num_cols].fillna(0)\n",
    "\n",
    "# Save back to Excel (overwrite or choose a new name if preferred)\n",
    "df.to_excel(file_path, index=False)\n",
    "\n",
    "print(\"Numerical missing values filled with 0 and saved successfully.\")"
   ]
  },
  {
   "cell_type": "code",
   "execution_count": 37,
   "id": "5e1467c2-f031-4cf2-97da-8cb6ea5544fd",
   "metadata": {},
   "outputs": [
    {
     "name": "stdout",
     "output_type": "stream",
     "text": [
      "Missing 'Daily Team Review' values updated to 'Missed' where applicable.\n"
     ]
    }
   ],
   "source": [
    "# Condition for assigning 'Missed'\n",
    "condition = (\n",
    "    df['Leads'].notnull() & (df['Leads'] != 0) &\n",
    "    df['Time spent on LG (mins)'].notnull() & (df['Time spent on LG (mins)'] != 0) &\n",
    "    df['Avg Time Per Lead (mins)'].notnull() & (df['Avg Time Per Lead (mins)'] != 0) &\n",
    "    df['Daily Team Review'].isnull()\n",
    ")\n",
    "\n",
    "# Update only those rows\n",
    "df.loc[condition, 'Daily Team Review'] = 'Missed'\n",
    "\n",
    "# Save to new file\n",
    "new_file = r'C:\\Users\\Dell\\Downloads\\Antarctica Global\\Assignment\\Dataset\\merged_dataset_review_updated.xlsx'\n",
    "df.to_excel(new_file, index=False)\n",
    "\n",
    "print(\"Missing 'Daily Team Review' values updated to 'Missed' where applicable.\")"
   ]
  },
  {
   "cell_type": "code",
   "execution_count": 38,
   "id": "6df24f31-3c31-460a-8c38-0d8fd9ff435d",
   "metadata": {},
   "outputs": [
    {
     "data": {
      "text/html": [
       "<div>\n",
       "<style scoped>\n",
       "    .dataframe tbody tr th:only-of-type {\n",
       "        vertical-align: middle;\n",
       "    }\n",
       "\n",
       "    .dataframe tbody tr th {\n",
       "        vertical-align: top;\n",
       "    }\n",
       "\n",
       "    .dataframe thead th {\n",
       "        text-align: right;\n",
       "    }\n",
       "</style>\n",
       "<table border=\"1\" class=\"dataframe\">\n",
       "  <thead>\n",
       "    <tr style=\"text-align: right;\">\n",
       "      <th></th>\n",
       "      <th>Date</th>\n",
       "      <th>Employee</th>\n",
       "      <th>Leads</th>\n",
       "      <th>Time spent on LG (mins)</th>\n",
       "      <th>Avg Time Per Lead (mins)</th>\n",
       "      <th>Daily Team Review</th>\n",
       "    </tr>\n",
       "  </thead>\n",
       "  <tbody>\n",
       "    <tr>\n",
       "      <th>44</th>\n",
       "      <td>26/07/2023</td>\n",
       "      <td>Ali</td>\n",
       "      <td>11</td>\n",
       "      <td>180</td>\n",
       "      <td>16</td>\n",
       "      <td>Missed</td>\n",
       "    </tr>\n",
       "    <tr>\n",
       "      <th>181</th>\n",
       "      <td>10/08/2023</td>\n",
       "      <td>Raj</td>\n",
       "      <td>10</td>\n",
       "      <td>180</td>\n",
       "      <td>18</td>\n",
       "      <td>Missed</td>\n",
       "    </tr>\n",
       "    <tr>\n",
       "      <th>182</th>\n",
       "      <td>11/08/2023</td>\n",
       "      <td>Raj</td>\n",
       "      <td>11</td>\n",
       "      <td>200</td>\n",
       "      <td>18</td>\n",
       "      <td>Missed</td>\n",
       "    </tr>\n",
       "  </tbody>\n",
       "</table>\n",
       "</div>"
      ],
      "text/plain": [
       "           Date Employee  Leads  Time spent on LG (mins)  \\\n",
       "44   26/07/2023      Ali     11                      180   \n",
       "181  10/08/2023      Raj     10                      180   \n",
       "182  11/08/2023      Raj     11                      200   \n",
       "\n",
       "     Avg Time Per Lead (mins) Daily Team Review  \n",
       "44                         16            Missed  \n",
       "181                        18            Missed  \n",
       "182                        18            Missed  "
      ]
     },
     "execution_count": 38,
     "metadata": {},
     "output_type": "execute_result"
    }
   ],
   "source": [
    "# Reload the updated dataset (optional if already loaded)\n",
    "df = pd.read_excel(r'C:\\Users\\Dell\\Downloads\\Antarctica Global\\Assignment\\Dataset\\merged_dataset_review_updated.xlsx')\n",
    "\n",
    "# Filter rows where Daily Team Review was updated to 'Missed'\n",
    "check_df = df[\n",
    "    (df['Leads'].notnull()) & (df['Leads'] != 0) &\n",
    "    (df['Time spent on LG (mins)'].notnull()) & (df['Time spent on LG (mins)'] != 0) &\n",
    "    (df['Avg Time Per Lead (mins)'].notnull()) & (df['Avg Time Per Lead (mins)'] != 0) &\n",
    "    (df['Daily Team Review'] == 'Missed')\n",
    "]\n",
    "\n",
    "# Display these rows to confirm\n",
    "check_df[['Date', 'Employee', 'Leads', 'Time spent on LG (mins)', 'Avg Time Per Lead (mins)', 'Daily Team Review']]\n"
   ]
  },
  {
   "cell_type": "code",
   "execution_count": 39,
   "id": "64f698c2-87b0-467d-8d70-6a6004a68c2b",
   "metadata": {},
   "outputs": [
    {
     "name": "stdout",
     "output_type": "stream",
     "text": [
      "✅ 'Active_Status' column created and file saved successfully.\n"
     ]
    }
   ],
   "source": [
    "import pandas as pd\n",
    "\n",
    "# Load the dataset\n",
    "file_path = r\"C:\\Users\\Dell\\Downloads\\Antarctica Global\\Assignment\\Dataset\\merged_dataset.xlsx\"\n",
    "df = pd.read_excel(file_path)\n",
    "\n",
    "# Fill numeric columns with 0 for easier comparison\n",
    "num_cols = ['Leads', 'Time spent on LG (mins)', 'Avg Time Per Lead (mins)', 'No. of Incomplete Leads']\n",
    "df[num_cols] = df[num_cols].fillna(0)\n",
    "\n",
    "# Define Active_Status logic\n",
    "def set_active_status(row):\n",
    "    leads = row['Leads']\n",
    "    time_spent = row['Time spent on LG (mins)']\n",
    "    avg_time = row['Avg Time Per Lead (mins)']\n",
    "    review = row['Daily Team Review']\n",
    "    incomplete = row['No. of Incomplete Leads']\n",
    "\n",
    "    # Inactive: Only Day & Date present\n",
    "    if leads == 0 and time_spent == 0 and avg_time == 0 and pd.isna(review) and incomplete == 0:\n",
    "        return 'Inactive'\n",
    "\n",
    "    # Present but Inactive: No work done, but review and incomplete leads present\n",
    "    if leads == 0 and time_spent == 0 and avg_time == 0 and pd.notna(review) and incomplete != 0:\n",
    "        return 'Present but Inactive'\n",
    "\n",
    "    return 'Active'  # Default case for other combinations\n",
    "\n",
    "# Apply function\n",
    "df['Active_Status'] = df.apply(set_active_status, axis=1)\n",
    "\n",
    "# Save the updated file\n",
    "output_path = r\"C:\\Users\\Dell\\Downloads\\Antarctica Global\\Assignment\\Dataset\\merged_dataset.xlsx\"\n",
    "df.to_excel(output_path, index=False)\n",
    "\n",
    "print(\"✅ 'Active_Status' column created and file saved successfully.\")\n"
   ]
  },
  {
   "cell_type": "code",
   "execution_count": 44,
   "id": "95ef9d14-f1ea-4925-855d-8c2b8c243f57",
   "metadata": {},
   "outputs": [
    {
     "name": "stdout",
     "output_type": "stream",
     "text": [
      "\n",
      "Column: 'Leads'\n",
      "Q1 (25th percentile): 0.0\n",
      "Q3 (75th percentile): 12.0\n",
      "IQR: 12.0\n",
      "Lower Bound: -18.0\n",
      "Upper Bound: 30.0\n",
      "Outliers detected: 0 rows\n",
      "\n"
     ]
    },
    {
     "data": {
      "text/html": [
       "<div>\n",
       "<style scoped>\n",
       "    .dataframe tbody tr th:only-of-type {\n",
       "        vertical-align: middle;\n",
       "    }\n",
       "\n",
       "    .dataframe tbody tr th {\n",
       "        vertical-align: top;\n",
       "    }\n",
       "\n",
       "    .dataframe thead th {\n",
       "        text-align: right;\n",
       "    }\n",
       "</style>\n",
       "<table border=\"1\" class=\"dataframe\">\n",
       "  <thead>\n",
       "    <tr style=\"text-align: right;\">\n",
       "      <th></th>\n",
       "      <th>Date</th>\n",
       "      <th>Employee</th>\n",
       "      <th>Leads</th>\n",
       "    </tr>\n",
       "  </thead>\n",
       "  <tbody>\n",
       "  </tbody>\n",
       "</table>\n",
       "</div>"
      ],
      "text/plain": [
       "Empty DataFrame\n",
       "Columns: [Date, Employee, Leads]\n",
       "Index: []"
      ]
     },
     "metadata": {},
     "output_type": "display_data"
    },
    {
     "name": "stdout",
     "output_type": "stream",
     "text": [
      "\n",
      "Column: 'Time spent on LG (mins)'\n",
      "Q1 (25th percentile): 0.0\n",
      "Q3 (75th percentile): 240.0\n",
      "IQR: 240.0\n",
      "Lower Bound: -360.0\n",
      "Upper Bound: 600.0\n",
      "Outliers detected: 0 rows\n",
      "\n"
     ]
    },
    {
     "data": {
      "text/html": [
       "<div>\n",
       "<style scoped>\n",
       "    .dataframe tbody tr th:only-of-type {\n",
       "        vertical-align: middle;\n",
       "    }\n",
       "\n",
       "    .dataframe tbody tr th {\n",
       "        vertical-align: top;\n",
       "    }\n",
       "\n",
       "    .dataframe thead th {\n",
       "        text-align: right;\n",
       "    }\n",
       "</style>\n",
       "<table border=\"1\" class=\"dataframe\">\n",
       "  <thead>\n",
       "    <tr style=\"text-align: right;\">\n",
       "      <th></th>\n",
       "      <th>Date</th>\n",
       "      <th>Employee</th>\n",
       "      <th>Time spent on LG (mins)</th>\n",
       "    </tr>\n",
       "  </thead>\n",
       "  <tbody>\n",
       "  </tbody>\n",
       "</table>\n",
       "</div>"
      ],
      "text/plain": [
       "Empty DataFrame\n",
       "Columns: [Date, Employee, Time spent on LG (mins)]\n",
       "Index: []"
      ]
     },
     "metadata": {},
     "output_type": "display_data"
    },
    {
     "name": "stdout",
     "output_type": "stream",
     "text": [
      "\n",
      "Column: 'Avg Time Per Lead (mins)'\n",
      "Q1 (25th percentile): 0.0\n",
      "Q3 (75th percentile): 20.0\n",
      "IQR: 20.0\n",
      "Lower Bound: -30.0\n",
      "Upper Bound: 50.0\n",
      "Outliers detected: 0 rows\n",
      "\n"
     ]
    },
    {
     "data": {
      "text/html": [
       "<div>\n",
       "<style scoped>\n",
       "    .dataframe tbody tr th:only-of-type {\n",
       "        vertical-align: middle;\n",
       "    }\n",
       "\n",
       "    .dataframe tbody tr th {\n",
       "        vertical-align: top;\n",
       "    }\n",
       "\n",
       "    .dataframe thead th {\n",
       "        text-align: right;\n",
       "    }\n",
       "</style>\n",
       "<table border=\"1\" class=\"dataframe\">\n",
       "  <thead>\n",
       "    <tr style=\"text-align: right;\">\n",
       "      <th></th>\n",
       "      <th>Date</th>\n",
       "      <th>Employee</th>\n",
       "      <th>Avg Time Per Lead (mins)</th>\n",
       "    </tr>\n",
       "  </thead>\n",
       "  <tbody>\n",
       "  </tbody>\n",
       "</table>\n",
       "</div>"
      ],
      "text/plain": [
       "Empty DataFrame\n",
       "Columns: [Date, Employee, Avg Time Per Lead (mins)]\n",
       "Index: []"
      ]
     },
     "metadata": {},
     "output_type": "display_data"
    },
    {
     "name": "stdout",
     "output_type": "stream",
     "text": [
      "\n",
      "Column: 'No. of Incomplete Leads'\n",
      "Q1 (25th percentile): 0.0\n",
      "Q3 (75th percentile): 0.0\n",
      "IQR: 0.0\n",
      "Lower Bound: 0.0\n",
      "Upper Bound: 0.0\n",
      "Outliers detected: 8 rows\n",
      "\n"
     ]
    },
    {
     "data": {
      "text/html": [
       "<div>\n",
       "<style scoped>\n",
       "    .dataframe tbody tr th:only-of-type {\n",
       "        vertical-align: middle;\n",
       "    }\n",
       "\n",
       "    .dataframe tbody tr th {\n",
       "        vertical-align: top;\n",
       "    }\n",
       "\n",
       "    .dataframe thead th {\n",
       "        text-align: right;\n",
       "    }\n",
       "</style>\n",
       "<table border=\"1\" class=\"dataframe\">\n",
       "  <thead>\n",
       "    <tr style=\"text-align: right;\">\n",
       "      <th></th>\n",
       "      <th>Date</th>\n",
       "      <th>Employee</th>\n",
       "      <th>No. of Incomplete Leads</th>\n",
       "    </tr>\n",
       "  </thead>\n",
       "  <tbody>\n",
       "    <tr>\n",
       "      <th>1</th>\n",
       "      <td>13/06/2023</td>\n",
       "      <td>Ali</td>\n",
       "      <td>3</td>\n",
       "    </tr>\n",
       "    <tr>\n",
       "      <th>72</th>\n",
       "      <td>23/06/2023</td>\n",
       "      <td>Arya</td>\n",
       "      <td>9</td>\n",
       "    </tr>\n",
       "    <tr>\n",
       "      <th>123</th>\n",
       "      <td>13/06/2023</td>\n",
       "      <td>Raj</td>\n",
       "      <td>3</td>\n",
       "    </tr>\n",
       "    <tr>\n",
       "      <th>131</th>\n",
       "      <td>21/06/2023</td>\n",
       "      <td>Raj</td>\n",
       "      <td>2</td>\n",
       "    </tr>\n",
       "    <tr>\n",
       "      <th>133</th>\n",
       "      <td>23/06/2023</td>\n",
       "      <td>Raj</td>\n",
       "      <td>1</td>\n",
       "    </tr>\n",
       "    <tr>\n",
       "      <th>136</th>\n",
       "      <td>26/06/2023</td>\n",
       "      <td>Raj</td>\n",
       "      <td>1</td>\n",
       "    </tr>\n",
       "    <tr>\n",
       "      <th>137</th>\n",
       "      <td>27/06/2023</td>\n",
       "      <td>Raj</td>\n",
       "      <td>6</td>\n",
       "    </tr>\n",
       "    <tr>\n",
       "      <th>140</th>\n",
       "      <td>30/06/2023</td>\n",
       "      <td>Raj</td>\n",
       "      <td>1</td>\n",
       "    </tr>\n",
       "  </tbody>\n",
       "</table>\n",
       "</div>"
      ],
      "text/plain": [
       "           Date Employee  No. of Incomplete Leads\n",
       "1    13/06/2023      Ali                        3\n",
       "72   23/06/2023     Arya                        9\n",
       "123  13/06/2023      Raj                        3\n",
       "131  21/06/2023      Raj                        2\n",
       "133  23/06/2023      Raj                        1\n",
       "136  26/06/2023      Raj                        1\n",
       "137  27/06/2023      Raj                        6\n",
       "140  30/06/2023      Raj                        1"
      ]
     },
     "metadata": {},
     "output_type": "display_data"
    }
   ],
   "source": [
    "# Approach: IQR Method for outliers as dataset involving time durations, lead counts, and other continuous numerical variables\n",
    "path = r\"C:\\Users\\Dell\\Downloads\\Antarctica Global\\Assignment\\Dataset\\merged_dataset.xlsx\"\n",
    "df = pd.read_excel(path)\n",
    "\n",
    "# Define numerical columns\n",
    "num_cols = ['Leads', 'Time spent on LG (mins)', 'Avg Time Per Lead (mins)', 'No. of Incomplete Leads']\n",
    "\n",
    "# Function to detect and display outliers with IQR info\n",
    "def detect_outliers_iqr(df, column):\n",
    "    Q1 = df[column].quantile(0.25)\n",
    "    Q3 = df[column].quantile(0.75)\n",
    "    IQR = Q3 - Q1\n",
    "    lower = Q1 - 1.5 * IQR\n",
    "    upper = Q3 + 1.5 * IQR\n",
    "    outliers = df[(df[column] < lower) | (df[column] > upper)]\n",
    "    \n",
    "    print(f\"\\nColumn: '{column}'\")\n",
    "    print(f\"Q1 (25th percentile): {Q1}\")\n",
    "    print(f\"Q3 (75th percentile): {Q3}\")\n",
    "    print(f\"IQR: {IQR}\")\n",
    "    print(f\"Lower Bound: {lower}\")\n",
    "    print(f\"Upper Bound: {upper}\")\n",
    "    print(f\"Outliers detected: {len(outliers)} rows\\n\")\n",
    "    \n",
    "    return outliers\n",
    "\n",
    "# Run for each column\n",
    "for col in num_cols:\n",
    "    outliers = detect_outliers_iqr(df, col)\n",
    "    display(outliers[['Date', 'Employee', col]])\n",
    "\n"
   ]
  },
  {
   "cell_type": "code",
   "execution_count": 41,
   "id": "8837e87c-48e5-4f7d-ae4e-497bc04b5f9a",
   "metadata": {},
   "outputs": [],
   "source": [
    "# not dropping the outliers of the Incomplete lead columns as they are important for analysis as per my point of view, rest seems fine "
   ]
  },
  {
   "cell_type": "code",
   "execution_count": 46,
   "id": "b39934a5-58bd-45a4-9cd8-f915a73e6dd9",
   "metadata": {},
   "outputs": [
    {
     "name": "stdout",
     "output_type": "stream",
     "text": [
      "Summary Statistics for Numerical Columns:\n"
     ]
    },
    {
     "data": {
      "text/html": [
       "<div>\n",
       "<style scoped>\n",
       "    .dataframe tbody tr th:only-of-type {\n",
       "        vertical-align: middle;\n",
       "    }\n",
       "\n",
       "    .dataframe tbody tr th {\n",
       "        vertical-align: top;\n",
       "    }\n",
       "\n",
       "    .dataframe thead th {\n",
       "        text-align: right;\n",
       "    }\n",
       "</style>\n",
       "<table border=\"1\" class=\"dataframe\">\n",
       "  <thead>\n",
       "    <tr style=\"text-align: right;\">\n",
       "      <th></th>\n",
       "      <th>count</th>\n",
       "      <th>mean</th>\n",
       "      <th>std</th>\n",
       "      <th>min</th>\n",
       "      <th>25%</th>\n",
       "      <th>50%</th>\n",
       "      <th>75%</th>\n",
       "      <th>max</th>\n",
       "      <th>median</th>\n",
       "    </tr>\n",
       "  </thead>\n",
       "  <tbody>\n",
       "    <tr>\n",
       "      <th>Leads</th>\n",
       "      <td>183.0</td>\n",
       "      <td>7.699454</td>\n",
       "      <td>5.813243</td>\n",
       "      <td>0.0</td>\n",
       "      <td>0.0</td>\n",
       "      <td>10.0</td>\n",
       "      <td>12.0</td>\n",
       "      <td>20.0</td>\n",
       "      <td>10.0</td>\n",
       "    </tr>\n",
       "    <tr>\n",
       "      <th>Time spent on LG (mins)</th>\n",
       "      <td>183.0</td>\n",
       "      <td>138.737705</td>\n",
       "      <td>114.103563</td>\n",
       "      <td>0.0</td>\n",
       "      <td>0.0</td>\n",
       "      <td>138.0</td>\n",
       "      <td>240.0</td>\n",
       "      <td>370.0</td>\n",
       "      <td>138.0</td>\n",
       "    </tr>\n",
       "    <tr>\n",
       "      <th>Avg Time Per Lead (mins)</th>\n",
       "      <td>183.0</td>\n",
       "      <td>12.459016</td>\n",
       "      <td>10.468016</td>\n",
       "      <td>0.0</td>\n",
       "      <td>0.0</td>\n",
       "      <td>12.0</td>\n",
       "      <td>20.0</td>\n",
       "      <td>40.0</td>\n",
       "      <td>12.0</td>\n",
       "    </tr>\n",
       "    <tr>\n",
       "      <th>No. of Incomplete Leads</th>\n",
       "      <td>183.0</td>\n",
       "      <td>0.142077</td>\n",
       "      <td>0.871736</td>\n",
       "      <td>0.0</td>\n",
       "      <td>0.0</td>\n",
       "      <td>0.0</td>\n",
       "      <td>0.0</td>\n",
       "      <td>9.0</td>\n",
       "      <td>0.0</td>\n",
       "    </tr>\n",
       "  </tbody>\n",
       "</table>\n",
       "</div>"
      ],
      "text/plain": [
       "                          count        mean         std  min  25%    50%  \\\n",
       "Leads                     183.0    7.699454    5.813243  0.0  0.0   10.0   \n",
       "Time spent on LG (mins)   183.0  138.737705  114.103563  0.0  0.0  138.0   \n",
       "Avg Time Per Lead (mins)  183.0   12.459016   10.468016  0.0  0.0   12.0   \n",
       "No. of Incomplete Leads   183.0    0.142077    0.871736  0.0  0.0    0.0   \n",
       "\n",
       "                            75%    max  median  \n",
       "Leads                      12.0   20.0    10.0  \n",
       "Time spent on LG (mins)   240.0  370.0   138.0  \n",
       "Avg Time Per Lead (mins)   20.0   40.0    12.0  \n",
       "No. of Incomplete Leads     0.0    9.0     0.0  "
      ]
     },
     "metadata": {},
     "output_type": "display_data"
    }
   ],
   "source": [
    "# numerical columns\n",
    "num_cols = ['Leads', 'Time spent on LG (mins)', 'Avg Time Per Lead (mins)', 'No. of Incomplete Leads']\n",
    "\n",
    "# Summary statistics using describe()\n",
    "summary_stats = df[num_cols].describe().T  # Transpose for better readability\n",
    "summary_stats['median'] = df[num_cols].median()  # Add median separately\n",
    "\n",
    "# Display\n",
    "print(\"Summary Statistics for Numerical Columns:\")\n",
    "display(summary_stats)\n"
   ]
  },
  {
   "cell_type": "markdown",
   "id": "bbeb829b-0aa8-4599-b0b0-bd919a4ec1a4",
   "metadata": {},
   "source": [
    "## my understandings \n",
    "#### Leads : \n",
    "##### mean =  On average, ~7.7 leads were generated per day. \n",
    "##### Std =  The number of leads usually moves around 5–6 leads above or below 7.7. So some days could be very high, others very low.\n",
    "##### 25% (Q1) = 25% of days had 0 leads — suggesting many inactive or non-productive days.\n",
    "##### Median (50%)= 10.0; Half the days had ≤10 leads.\n",
    "##### 75% (Q3)= 12.0; 75% of days had ≤12 leads.\n",
    "##### Max = 20 Maximum leads generated in a single day.\n",
    "\n",
    "#### Time spent on LG (mins) :\n",
    "##### Mean = 138.7 mins (~2.3 hours/day)\n",
    "##### Std Dev = 114.1 mins (high variation — some days much longer/shorter)\n",
    "##### Median = 138 mins\n",
    "##### Max = 370 mins (~6.2 hours)\n",
    "\n",
    "#### Avg Time Per Lead (mins) :\n",
    "##### Mean = 12.46 mins per lead\n",
    "##### Std Dev = 10.47 mins\n",
    "##### Median = 12 mins\n",
    "##### Max = 40 mins\n",
    "\n",
    "####  No. of Incomplete Leads\n",
    "##### Mean= 0.14 leads per day\n",
    "##### Std Dev = 0.87\n",
    "##### Max = 9\n"
   ]
  },
  {
   "cell_type": "markdown",
   "id": "06ec5e50-1ab1-49b2-af0d-3c65664c589a",
   "metadata": {},
   "source": [
    "## Analysis Questions\n",
    "### 1. Lead Generation Efficiency: Calculate the lead generation efficiency for each associate as the ratio of total leads generated to the total time spent on lead generation. Which associate has the highest efficiency?"
   ]
  },
  {
   "cell_type": "code",
   "execution_count": 48,
   "id": "60192789-c325-42bd-9c65-fda62b135029",
   "metadata": {
    "scrolled": true
   },
   "outputs": [
    {
     "name": "stdout",
     "output_type": "stream",
     "text": [
      "          Leads  Time spent on LG (mins)  Efficiency (Leads per Minute)\n",
      "Employee                                                               \n",
      "Arya        474                     5569                       0.085114\n",
      "Ali         488                     9235                       0.052842\n",
      "Raj         447                    10585                       0.042230\n"
     ]
    }
   ],
   "source": [
    "# Efficiency = Total Leads / Total Time Spent on Lead Generation \n",
    "# Group by Employee and calculate total leads and total time\n",
    "efficiency_df = df.groupby('Employee')[['Leads', 'Time spent on LG (mins)']].sum()\n",
    "\n",
    "# Calculate efficiency\n",
    "efficiency_df['Efficiency (Leads per Minute)'] = efficiency_df['Leads'] / efficiency_df['Time spent on LG (mins)']\n",
    "\n",
    "# Display sorted efficiency\n",
    "efficiency_df = efficiency_df.sort_values(by='Efficiency (Leads per Minute)', ascending=False)\n",
    "print(efficiency_df)"
   ]
  },
  {
   "cell_type": "markdown",
   "id": "c179bfbb-a869-437b-8e2c-ce896781ec51",
   "metadata": {},
   "source": [
    "#### Arya has the highest lead generation efficiency, with 0.0851 leads per minute.\n"
   ]
  },
  {
   "cell_type": "markdown",
   "id": "ace511cc-c22c-406c-b91d-0c56227e1ac4",
   "metadata": {},
   "source": [
    "###  2. Daily Performance Variability: Determine the standard deviation of the daily number of leads generated by each associate. Which associate shows the highest variability in daily performance?"
   ]
  },
  {
   "cell_type": "code",
   "execution_count": 49,
   "id": "3dd2ecf3-ffa2-421c-8a92-041d402bae22",
   "metadata": {},
   "outputs": [
    {
     "name": "stdout",
     "output_type": "stream",
     "text": [
      "  Employee  Daily Lead Std Dev\n",
      "0      Ali            6.156298\n",
      "1     Arya            5.748604\n",
      "2      Raj            5.596789\n"
     ]
    }
   ],
   "source": [
    "# Group by Employee and calculate standard deviation of daily leads\n",
    "variability_df = df.groupby('Employee')['Leads'].std().reset_index()\n",
    "\n",
    "# Rename column for clarity\n",
    "variability_df.columns = ['Employee', 'Daily Lead Std Dev']\n",
    "\n",
    "# Sort by highest standard deviation\n",
    "variability_df = variability_df.sort_values(by='Daily Lead Std Dev', ascending=False)\n",
    "\n",
    "# Display results\n",
    "print(variability_df) \n"
   ]
  },
  {
   "cell_type": "markdown",
   "id": "6e8c429d-6087-4f12-8ace-27e4fd343c1e",
   "metadata": {},
   "source": [
    "#### Ali shows the highest variability in daily performance, with a standard deviation of ~6.16 leads/day."
   ]
  },
  {
   "cell_type": "markdown",
   "id": "fc91a594-4043-4de0-88ac-dacb73d10b34",
   "metadata": {},
   "source": [
    "## for deeper comparison we can also use mean and coefficient of variation (CV)"
   ]
  },
  {
   "cell_type": "code",
   "execution_count": 50,
   "id": "e82bd2a5-62a0-4094-834c-f39272c4aaba",
   "metadata": {},
   "outputs": [
    {
     "name": "stdout",
     "output_type": "stream",
     "text": [
      "  Employee  Mean Leads  Lead Std Dev        CV\n",
      "0      Ali    8.000000      6.156298  0.769537\n",
      "2      Raj    7.327869      5.596789  0.763768\n",
      "1     Arya    7.770492      5.748604  0.739799\n"
     ]
    }
   ],
   "source": [
    "## for deeper comparison we can also use mean and coefficient of variation (CV)\n",
    "# Group by Employee and calculate mean and std dev\n",
    "stats_df = df.groupby('Employee')['Leads'].agg(['mean', 'std']).reset_index()\n",
    "\n",
    "# Rename columns\n",
    "stats_df.columns = ['Employee', 'Mean Leads', 'Lead Std Dev']\n",
    "\n",
    "# Calculate Coefficient of Variation\n",
    "stats_df['CV'] = stats_df['Lead Std Dev'] / stats_df['Mean Leads']\n",
    "\n",
    "# Sort by CV (descending = more variability relative to mean)\n",
    "stats_df = stats_df.sort_values(by='CV', ascending=False)\n",
    "\n",
    "print(stats_df)\n"
   ]
  },
  {
   "cell_type": "markdown",
   "id": "c8dc5cc4-3388-497e-a345-1e6dc96543a2",
   "metadata": {},
   "source": [
    "#### Ali has the highest CV (0.77), which means his number of leads changes a lot from day to day compared to his usual average.\n",
    "#### While Arya has a similar average, but her leads don’t change as much — so she is more consistent.\n",
    "\n",
    "#### Conclusion: Ali’s performance changes the most each day, while Arya is the most steady and consistent. [which also solves the 6th question]"
   ]
  },
  {
   "cell_type": "markdown",
   "id": "2830e2d1-058f-4698-a0f7-96a82031a8eb",
   "metadata": {},
   "source": [
    "### 3. Time Management Analysis: Analyze the relationship between the average time per lead and the total number of leads generated per day for each associate. Is there a significant correlation?"
   ]
  },
  {
   "cell_type": "markdown",
   "id": "9cff2988-59a8-4c92-bc6a-e76a86f9fcec",
   "metadata": {},
   "source": [
    "##### Interpretation of Correlation:\n",
    "##### Negative correlation (r < 0):\n",
    "##### → Higher time per lead means fewer leads per day — might suggest inefficiency.\n",
    "\n",
    "##### Positive correlation (r > 0):\n",
    "##### → Higher time per lead means more leads per day — might suggest better quality or longer effort per lead.\n",
    "\n",
    "##### Close to 0:\n",
    "##### → No clear relationship"
   ]
  },
  {
   "cell_type": "code",
   "execution_count": 55,
   "id": "cd81277a-c40b-47d2-b9e9-b5437da5320f",
   "metadata": {},
   "outputs": [
    {
     "name": "stdout",
     "output_type": "stream",
     "text": [
      "Ali: Correlation = 0.74\n",
      "Arya: Correlation = 0.78\n",
      "Raj: Correlation = 0.82\n"
     ]
    }
   ],
   "source": [
    "\n",
    "\n",
    "# Drop rows where 'Leads' or 'Avg Time Per Lead (mins)' is NaN\n",
    "df_filtered = df.dropna(subset=['Leads', 'Avg Time Per Lead (mins)'])\n",
    "\n",
    "# Group by Employee and calculate correlation\n",
    "employee_correlations = {}\n",
    "\n",
    "for emp in df_filtered['Employee'].unique():\n",
    "    emp_data = df_filtered[df_filtered['Employee'] == emp]\n",
    "    if len(emp_data) > 1:  # Ensure enough data points\n",
    "        corr = emp_data['Leads'].corr(emp_data['Avg Time Per Lead (mins)'])\n",
    "        employee_correlations[emp] = corr\n",
    "\n",
    "# Display results\n",
    "for emp, corr in employee_correlations.items():\n",
    "    print(f\"{emp}: Correlation = {corr:.2f}\")\n"
   ]
  },
  {
   "cell_type": "markdown",
   "id": "8f96de44-fa6c-478e-97b1-f20d7e3f2b6b",
   "metadata": {},
   "source": [
    "#### Interpretation:\n",
    "##### Raj shows the highest positive correlation (0.82), meaning that as Raj spends more time per lead, the number of leads generated increases more consistently compared to the others.\n",
    "\n",
    "##### Arya follows with a correlation of 0.78, indicating a strong relationship between time spent per lead and the number of leads generated, though slightly less pronounced than Raj.\n",
    "\n",
    "##### Ali has the lowest correlation of the three (0.74), still showing a positive relationship but less strong compared to Arya and Raj.\n",
    "\n",
    "#### Conclusion:\n",
    "##### This indicates that for all three employees, spending more time per lead is associated with generating more leads, with Raj showing the strongest relationship between the two variables."
   ]
  },
  {
   "cell_type": "markdown",
   "id": "f3bd6e3e-4737-4c0b-9440-1bfe87a06498",
   "metadata": {},
   "source": [
    "### 4. Compare the average number of leads generated on days when daily team reviews were attended versus missed for each associate. What is the percentage difference in performance?"
   ]
  },
  {
   "cell_type": "code",
   "execution_count": 61,
   "id": "a5850112-deb8-4c0b-a702-3ac3113e84fa",
   "metadata": {},
   "outputs": [],
   "source": [
    "# note: will filling null values I have not considered Null values in the \"daily team reviews\" an left it empty as they can likely be weekend or scheduled leave"
   ]
  },
  {
   "cell_type": "code",
   "execution_count": 68,
   "id": "755c91d2-486a-4380-b744-aae420f85d62",
   "metadata": {},
   "outputs": [
    {
     "name": "stdout",
     "output_type": "stream",
     "text": [
      "Ali: Percentage difference in leads (Attended vs Missed) = 5.76%\n",
      "Arya: Data not sufficient to calculate percentage difference\n",
      "Raj: Percentage difference in leads (Attended vs Missed) = 56.04%\n",
      "\n",
      "Average Number of Leads Generated on Attended vs Missed Days:\n",
      "Ali: Attended = 11.63, Missed = 11.00\n",
      "Arya: Attended = 11.56, Missed = nan\n",
      "Raj: Attended = 10.92, Missed = 7.00\n"
     ]
    }
   ],
   "source": [
    "# Remove rows with NaN in 'Leads' or 'Daily Team Review' to avoid errors in calculations or its fine if not removed \n",
    "\n",
    "# Group by 'Employee' and 'Daily Team Review' to calculate the average leads for attended and missed\n",
    "avg_leads_per_review = df_clean.groupby(['Employee', 'Daily Team Review'])['Leads'].mean().unstack()\n",
    "\n",
    "# Calculate the percentage difference\n",
    "# To avoid divide by zero, make sure we handle the case where 'Attended' or 'Missed' is 0 for some associates\n",
    "percentage_difference = {}\n",
    "\n",
    "for emp in avg_leads_per_review.index:\n",
    "    attended_leads = avg_leads_per_review.loc[emp, 'Attended']\n",
    "    missed_leads = avg_leads_per_review.loc[emp, 'Missed']\n",
    "    \n",
    "    if pd.notna(attended_leads) and pd.notna(missed_leads):  # Check if both values are available\n",
    "        diff = ((attended_leads - missed_leads) / missed_leads) * 100\n",
    "        percentage_difference[emp] = diff\n",
    "    else:\n",
    "        percentage_difference[emp] = None  # If any value is missing, set as None\n",
    "\n",
    "# Display the results\n",
    "for emp, diff in percentage_difference.items():\n",
    "    if diff is not None:\n",
    "        print(f\"{emp}: Percentage difference in leads (Attended vs Missed) = {diff:.2f}%\")\n",
    "    else:\n",
    "        print(f\"{emp}: Data not sufficient to calculate percentage difference\")\n",
    "\n",
    "# Display the average leads on days when team reviews were attended vs missed\n",
    "print(\"\\nAverage Number of Leads Generated on Attended vs Missed Days:\")\n",
    "for emp in avg_leads_per_review.index:\n",
    "    attended_leads = avg_leads_per_review.loc[emp, 'Attended']\n",
    "    missed_leads = avg_leads_per_review.loc[emp, 'Missed']\n",
    "    print(f\"{emp}: Attended = {attended_leads:.2f}, Missed = {missed_leads:.2f}\")\n"
   ]
  },
  {
   "cell_type": "markdown",
   "id": "2e9a82d8-667e-494e-a711-65a84651befd",
   "metadata": {},
   "source": [
    "### Interpretation:\n",
    "\n",
    "##### Ali: The percentage difference in leads between attended and missed reviews is 5.76%, meaning Ali generates slightly more leads on days when daily team reviews are attended (11.63 leads) compared to when they are missed (11.00 leads).\n",
    "\n",
    "##### Arya: There is insufficient data to calculate the percentage difference as there were no missed review days for Arya.\n",
    "\n",
    "##### Raj: The percentage difference in leads between attended and missed reviews is 56.04%, indicating Raj performs significantly better on days when reviews are attended (10.92 leads) compared to when they are missed (7.00 leads).\n",
    "\n",
    "#### Daily team reviews positively impact lead generation, especially for Raj, where missing reviews causes a large drop in performance.\n"
   ]
  },
  {
   "cell_type": "code",
   "execution_count": null,
   "id": "4e7bf644-cc14-4828-b3ab-de80f3434617",
   "metadata": {},
   "outputs": [],
   "source": []
  },
  {
   "cell_type": "code",
   "execution_count": null,
   "id": "fc67d625-d3c5-4509-a7b6-7ed6c5888070",
   "metadata": {},
   "outputs": [],
   "source": []
  },
  {
   "cell_type": "markdown",
   "id": "b62ee800-b445-4eb5-bead-ee1cc8e4f603",
   "metadata": {},
   "source": [
    "### 5. Incomplete Leads Reduction Over Time: Calculate the trend (using a linear regression model) of the number of incomplete leads over time for each associate. Are there any significant improvements or deteriorations?"
   ]
  },
  {
   "cell_type": "code",
   "execution_count": 74,
   "id": "9fe7aa16-2039-4eb2-bf6b-e72dd0ad56ab",
   "metadata": {},
   "outputs": [
    {
     "data": {
      "image/png": "[encoded data removed]",
      "text/plain": [
       "<Figure size 800x500 with 1 Axes>"
      ]
     },
     "metadata": {},
     "output_type": "display_data"
    },
    {
     "data": {
      "image/png": "[encoded data removed]",
      "text/plain": [
       "<Figure size 800x500 with 1 Axes>"
      ]
     },
     "metadata": {},
     "output_type": "display_data"
    },
    {
     "data": {
      "image/png": "[encoded data removed]",
      "text/plain": [
       "<Figure size 800x500 with 1 Axes>"
      ]
     },
     "metadata": {},
     "output_type": "display_data"
    },
    {
     "name": "stdout",
     "output_type": "stream",
     "text": [
      "Ali: Trend - Improvement, Slope: -0.00\n",
      "Arya: Trend - Improvement, Slope: -0.01\n",
      "Raj: Trend - Improvement, Slope: -0.01\n"
     ]
    }
   ],
   "source": [
    "\n",
    "from sklearn.linear_model import LinearRegression\n",
    "\n",
    "# Fix 1: Fill missing values in a proper way to avoid FutureWarning\n",
    "df['No. of Incomplete Leads'] = df['No. of Incomplete Leads'].fillna(0)\n",
    "\n",
    "# Fix 2: Convert Date column with correct format handling\n",
    "df['Date'] = pd.to_datetime(df['Date'], dayfirst=True, errors='coerce')\n",
    "\n",
    "# Drop rows where 'Date' is NaT due to parse errors\n",
    "df = df.dropna(subset=['Date'])\n",
    "\n",
    "# Convert Date to numerical value (days since the first date)\n",
    "df['Days Since Start'] = (df['Date'] - df['Date'].min()).dt.days\n",
    "\n",
    "# Initialize a LinearRegression model\n",
    "model = LinearRegression()\n",
    "\n",
    "# Prepare a dictionary to store results\n",
    "trend_results = {}\n",
    "\n",
    "# Iterate over each employee\n",
    "for emp in df['Employee'].unique():\n",
    "    emp_data = df[df['Employee'] == emp]\n",
    "\n",
    "    # Prepare the data (X: days, y: number of incomplete leads)\n",
    "    X = emp_data[['Days Since Start']]\n",
    "    y = emp_data['No. of Incomplete Leads']\n",
    "\n",
    "    # Fit the linear regression model\n",
    "    model.fit(X, y)\n",
    "\n",
    "    # Get the slope (coefficient) and intercept of the line\n",
    "    slope = model.coef_[0]\n",
    "    intercept = model.intercept_\n",
    "\n",
    "    # Store the results\n",
    "    trend_results[emp] = {'Slope': slope, 'Intercept': intercept}\n",
    "\n",
    "    # Plot the trend line\n",
    "    plt.figure(figsize=(8, 5))\n",
    "    plt.scatter(X, y, label='Actual Data', color='blue')\n",
    "    plt.plot(X, model.predict(X), label=f'Trend Line ({emp})', color='red')\n",
    "    plt.title(f'Incomplete Leads Trend for {emp}')\n",
    "    plt.xlabel('Days Since Start')\n",
    "    plt.ylabel('No. of Incomplete Leads')\n",
    "    plt.legend()\n",
    "    plt.show()\n",
    "\n",
    "# Display the trend results\n",
    "for emp, result in trend_results.items():\n",
    "    slope = result['Slope']\n",
    "    trend = \"Improvement\" if slope < 0 else \"Deterioration\"\n",
    "    print(f\"{emp}: Trend - {trend}, Slope: {slope:.2f}\")\n"
   ]
  },
  {
   "cell_type": "markdown",
   "id": "a1771e2b-ac03-4720-9bb1-d270c7627b98",
   "metadata": {},
   "source": [
    "#### Ali: Slight negative slope (-0.00) → no significant improvement; incomplete leads stayed consistently low.\n",
    "#### Arya: Small negative slope (-0.01) → slight improvement early on; incomplete leads reduced and remained low.\n",
    "#### Raj: Small negative slope (-0.01) → noticeable improvement in the initial days; incomplete leads dropped to zero and stayed there.\n",
    "\n",
    "#### Conclusion: All associates show mild improvement with no significant deterioration; incomplete leads are well-controlled across the team."
   ]
  },
  {
   "cell_type": "markdown",
   "id": "6aca0151-b3e7-4646-9ba7-bdcf21c3dd11",
   "metadata": {},
   "source": [
    "### 6. Performance Consistency: Calculate the coefficient of variation (CV) for the daily leads generated by each associate. Which associate has the most consistent performance?"
   ]
  },
  {
   "cell_type": "code",
   "execution_count": 78,
   "id": "8133249a-1345-4129-b4bd-b70250fce614",
   "metadata": {},
   "outputs": [
    {
     "name": "stdout",
     "output_type": "stream",
     "text": [
      "  Employee  Mean Leads  Lead Std Dev    CV (%)\n",
      "0      Ali    8.000000      6.156298  0.769537\n",
      "2      Raj    7.327869      5.596789  0.763768\n",
      "1     Arya    7.770492      5.748604  0.739799\n"
     ]
    }
   ],
   "source": [
    "## for deeper comparison we can also use mean and coefficient of variation (CV)\n",
    "# Group by Employee and calculate mean and std dev\n",
    "stats_df = df.groupby('Employee')['Leads'].agg(['mean', 'std']).reset_index()\n",
    "\n",
    "# Rename columns\n",
    "stats_df.columns = ['Employee', 'Mean Leads', 'Lead Std Dev']\n",
    "\n",
    "# Calculate Coefficient of Variation\n",
    "stats_df['CV (%)'] = stats_df['Lead Std Dev'] / stats_df['Mean Leads']\n",
    "\n",
    "# Sort by CV (descending = more variability relative to mean)\n",
    "stats_df = stats_df.sort_values(by='CV (%)', ascending=False)\n",
    "\n",
    "print(stats_df)\n"
   ]
  },
  {
   "cell_type": "markdown",
   "id": "2227bc72-11b6-4519-be19-ba0d199e9051",
   "metadata": {},
   "source": [
    "#### Arya is the most consistent performer (CV = 0.74), showing the least variation in daily leads relative to her average.\n",
    "\n",
    "#### Ali is the least consistent (CV = 0.77), with the highest day-to-day variability.\n",
    "\n",
    "#### Raj’s consistency is similar to Ali’s (CV = 0.76).\n",
    "\n",
    "#### Overall, all associates show fairly similar variability, but Arya is the most steady performer."
   ]
  },
  {
   "cell_type": "code",
   "execution_count": 86,
   "id": "76925da8-72ad-43f5-a18a-e875c2e07c9c",
   "metadata": {},
   "outputs": [
    {
     "name": "stdout",
     "output_type": "stream",
     "text": [
      "  Employee  90th Percentile Threshold (Leads)  \\\n",
      "0      Ali                               15.0   \n",
      "1     Arya                               14.0   \n",
      "2      Raj                               13.0   \n",
      "\n",
      "   Avg Time on High-Performance Days (mins)  Number of High-Performance Days  \n",
      "0                                    251.43                               14  \n",
      "1                                    161.43                                7  \n",
      "2                                    307.14                                7  \n"
     ]
    }
   ],
   "source": [
    "import pandas as pd\n",
    "\n",
    "# Load dataset\n",
    "file_path = r\"C:\\Users\\Dell\\Downloads\\Antarctica Global\\Assignment\\Dataset\\merged_dataset.xlsx\"\n",
    "df = pd.read_excel(file_path)\n",
    "\n",
    "# Create summary list\n",
    "high_perf_summary = []\n",
    "\n",
    "# Loop through each unique employee\n",
    "for emp in df['Employee'].unique():\n",
    "    emp_data = df[df['Employee'] == emp]\n",
    "    \n",
    "    # Calculate 90th percentile threshold for high-performance, [90th percentile threshold of leads (i.e., the value above which the top 10% of daily lead counts fall).]\n",
    "    threshold = emp_data['Leads'].quantile(0.9)\n",
    "    \n",
    "    # Filter high-performance days\n",
    "    high_perf_days = emp_data[emp_data['Leads'] >= threshold]\n",
    "    \n",
    "    # Calculate average time spent on these days\n",
    "    avg_time_spent = high_perf_days['Time spent on LG (mins)'].mean()\n",
    "    \n",
    "    high_perf_summary.append({\n",
    "        'Employee': emp,\n",
    "        '90th Percentile Threshold (Leads)': threshold,\n",
    "        'Avg Time on High-Performance Days (mins)': round(avg_time_spent, 2),\n",
    "        'Number of High-Performance Days': len(high_perf_days)\n",
    "    })\n",
    "\n",
    "# Convert to DataFrame\n",
    "summary_df = pd.DataFrame(high_perf_summary)\n",
    "\n",
    "# Display results\n",
    "print(summary_df)\n"
   ]
  },
  {
   "cell_type": "markdown",
   "id": "463e0877-dd76-4ade-b27c-1f2dc03c956b",
   "metadata": {},
   "source": [
    "#### Raj spent the most time on average during high-performance days, indicating deep effort per high-output day.\n",
    "\n",
    "#### Ali had more high-performance days (14) than others, suggesting greater consistency at top levels.\n",
    "\n",
    "#### Arya achieved high performance with the least time investment, which may reflect efficiency or different work styles."
   ]
  },
  {
   "cell_type": "markdown",
   "id": "07584c9d-51db-4a53-b150-dfefc9b15e10",
   "metadata": {},
   "source": [
    "## 7. Impact of Longer Lead Generation Time: Determine if there is a threshold in the time spent on lead generation beyond which the number of leads generated significantly increases. What is the optimal time spent on lead generation for maximizing leads?"
   ]
  },
  {
   "cell_type": "code",
   "execution_count": 87,
   "id": "3420e131-17da-42fa-93e2-42f21db8f487",
   "metadata": {},
   "outputs": [
    {
     "data": {
      "image/png": "[encoded data removed]",
      "text/plain": [
       "<Figure size 640x480 with 1 Axes>"
      ]
     },
     "metadata": {},
     "output_type": "display_data"
    }
   ],
   "source": [
    "import seaborn as sns\n",
    "import matplotlib.pyplot as plt\n",
    "\n",
    "sns.scatterplot(data=df_clean, x='Time spent on LG (mins)', y='Leads', hue='Employee')\n",
    "plt.title('Time Spent vs Leads Generated')\n",
    "plt.xlabel('Time Spent on LG (mins)')\n",
    "plt.ylabel('Leads Generated')\n",
    "plt.show()\n"
   ]
  },
  {
   "cell_type": "code",
   "execution_count": 93,
   "id": "64f397ca-f28d-4e8a-a2ab-6f06ae587c52",
   "metadata": {},
   "outputs": [
    {
     "name": "stdout",
     "output_type": "stream",
     "text": [
      "     Time Bin      Leads\n",
      "0    (0, 100]   4.500000\n",
      "1  (100, 300]  11.415929\n",
      "2  (300, 400]  13.750000\n"
     ]
    },
    {
     "name": "stderr",
     "output_type": "stream",
     "text": [
      "C:\\Users\\Dell\\AppData\\Local\\Temp\\ipykernel_5748\\1570665472.py:2: FutureWarning: The default of observed=False is deprecated and will be changed to True in a future version of pandas. Pass observed=False to retain current behavior or observed=True to adopt the future default and silence this warning.\n",
      "  bin_summary = df_clean.groupby('Time Bin')['Leads'].mean().reset_index()\n"
     ]
    }
   ],
   "source": [
    "df_clean['Time Bin'] = pd.cut(df_clean['Time spent on LG (mins)'], bins=[0, 100, 300, 400])\n",
    "bin_summary = df_clean.groupby('Time Bin')['Leads'].mean().reset_index()\n",
    "print(bin_summary)\n"
   ]
  },
  {
   "cell_type": "markdown",
   "id": "34be534b-85a2-42e2-8b9d-0814e4a866f9",
   "metadata": {},
   "source": [
    "#### From the time bin table:\n",
    "\n",
    "#### (0, 100] mins → Average leads: 4.5\n",
    "\n",
    "#### (100, 300] mins → Average leads: 11.42\n",
    "\n",
    "#### (300, 400] mins → Average leads: 13.75\n",
    "\n",
    "#### This indicates a clear threshold around 100 minutes. After this point, the number of leads more than doubles."
   ]
  },
  {
   "cell_type": "markdown",
   "id": "599d4bb9-1104-4b06-94de-f9ec771104dc",
   "metadata": {},
   "source": [
    "### Using Polynomial Regression\n",
    "### If the scatterplot shows non-linearity:"
   ]
  },
  {
   "cell_type": "code",
   "execution_count": 94,
   "id": "5e7bdd1d-9edc-4614-89bf-267f06d50b7f",
   "metadata": {},
   "outputs": [
    {
     "data": {
      "image/png": "[encoded data removed]",
      "text/plain": [
       "<Figure size 1000x600 with 1 Axes>"
      ]
     },
     "metadata": {},
     "output_type": "display_data"
    }
   ],
   "source": [
    "import numpy as np\n",
    "from sklearn.linear_model import LinearRegression\n",
    "from sklearn.preprocessing import PolynomialFeatures\n",
    "\n",
    "X = df_clean[['Time spent on LG (mins)']]\n",
    "y = df_clean['Leads']\n",
    "\n",
    "poly = PolynomialFeatures(degree=2)\n",
    "X_poly = poly.fit_transform(X)\n",
    "\n",
    "model = LinearRegression()\n",
    "model.fit(X_poly, y)\n",
    "\n",
    "# Predict values\n",
    "df_clean['Predicted Leads'] = model.predict(X_poly)\n",
    "\n",
    "# Plot\n",
    "plt.figure(figsize=(10, 6))\n",
    "sns.scatterplot(x='Time spent on LG (mins)', y='Leads', data=df_clean, label='Actual')\n",
    "sns.lineplot(x='Time spent on LG (mins)', y='Predicted Leads', data=df_clean, color='red', label='Trend')\n",
    "plt.title('Polynomial Fit: Time Spent vs Leads')\n",
    "plt.show()\n"
   ]
  },
  {
   "cell_type": "markdown",
   "id": "6a5eb6ed-69be-4652-b052-9e35c49d02eb",
   "metadata": {},
   "source": [
    "#### From the Polynomial Fit graph:\n",
    "\n",
    "##### The red trend line increases steeply up to ~250–280 minutes, where it flattens and then slightly declines.\n",
    "\n",
    "##### This indicates diminishing returns after that point.\n",
    "\n",
    "#### Optimal Time: 250 to 300 minutes\n",
    "##### Beyond 300 mins, additional time leads to marginal or no increase in leads.\n",
    "\n",
    "##### Employees spending over 300 minutes did not consistently generate more than those in the 250–300 range."
   ]
  },
  {
   "cell_type": "markdown",
   "id": "ac0a97ae-23e3-474c-aa13-84435aa7fc32",
   "metadata": {},
   "source": [
    "##### - Arya tends to work efficiently in the 100–200 mins range and consistently generates 10–15 leads.\n",
    "\n",
    "##### - Ali and Raj work more across the 200–350 mins range and generally generate 10–17 leads, but with more variability.\n",
    "\n",
    "##### - This supports the trend that after 100 mins, increasing time can help, but there’s a plateau around 300 mins.\n",
    "\n",
    "#### Conclusion\n",
    "##### - Yes, a clear threshold exists around 100 minutes — after which lead generation improves significantly.\n",
    "\n",
    "##### - Optimal time range for maximizing leads: 250–300 minutes\n",
    "\n",
    "##### - Beyond 300 minutes: diminishing returns — not much gain for extra effort."
   ]
  },
  {
   "cell_type": "markdown",
   "id": "b2ea2f2f-9e57-4bd0-9c16-cd0793bb7ee9",
   "metadata": {},
   "source": [
    "## 8. Comparative Day Analysis: Calculate the average leads generated on weekdays versus weekends for each associate. Are there any notable differences in performance based on the day of the week?"
   ]
  },
  {
   "cell_type": "code",
   "execution_count": 110,
   "id": "9808c68a-7109-4596-aa88-0f6d59e69ac4",
   "metadata": {},
   "outputs": [
    {
     "ename": "PermissionError",
     "evalue": "[Errno 13] Permission denied: 'C:\\\\Users\\\\Dell\\\\Downloads\\\\Antarctica Global\\\\Assignment\\\\Dataset\\\\merged_dataset.xlsx'",
     "output_type": "error",
     "traceback": [
      "\u001b[1;31m---------------------------------------------------------------------------\u001b[0m",
      "\u001b[1;31mPermissionError\u001b[0m                           Traceback (most recent call last)",
      "Cell \u001b[1;32mIn[110], line 15\u001b[0m\n\u001b[0;32m     13\u001b[0m \u001b[38;5;66;03m# Save the updated DataFrame back to Excel\u001b[39;00m\n\u001b[0;32m     14\u001b[0m output_path \u001b[38;5;241m=\u001b[39m \u001b[38;5;124mr\u001b[39m\u001b[38;5;124m'\u001b[39m\u001b[38;5;124mC:\u001b[39m\u001b[38;5;124m\\\u001b[39m\u001b[38;5;124mUsers\u001b[39m\u001b[38;5;124m\\\u001b[39m\u001b[38;5;124mDell\u001b[39m\u001b[38;5;124m\\\u001b[39m\u001b[38;5;124mDownloads\u001b[39m\u001b[38;5;124m\\\u001b[39m\u001b[38;5;124mAntarctica Global\u001b[39m\u001b[38;5;124m\\\u001b[39m\u001b[38;5;124mAssignment\u001b[39m\u001b[38;5;124m\\\u001b[39m\u001b[38;5;124mDataset\u001b[39m\u001b[38;5;124m\\\u001b[39m\u001b[38;5;124mmerged_dataset.xlsx\u001b[39m\u001b[38;5;124m'\u001b[39m\n\u001b[1;32m---> 15\u001b[0m \u001b[43mdf\u001b[49m\u001b[38;5;241;43m.\u001b[39;49m\u001b[43mto_excel\u001b[49m\u001b[43m(\u001b[49m\u001b[43moutput_path\u001b[49m\u001b[43m,\u001b[49m\u001b[43m \u001b[49m\u001b[43mindex\u001b[49m\u001b[38;5;241;43m=\u001b[39;49m\u001b[38;5;28;43;01mFalse\u001b[39;49;00m\u001b[43m)\u001b[49m\n\u001b[0;32m     17\u001b[0m \u001b[38;5;28mprint\u001b[39m(\u001b[38;5;124m\"\u001b[39m\u001b[38;5;124mFile saved successfully at:\u001b[39m\u001b[38;5;124m\"\u001b[39m, output_path)\n",
      "File \u001b[1;32m~\\AppData\\Local\\Programs\\Python\\Python313\\Lib\\site-packages\\pandas\\util\\_decorators.py:333\u001b[0m, in \u001b[0;36mdeprecate_nonkeyword_arguments.<locals>.decorate.<locals>.wrapper\u001b[1;34m(*args, **kwargs)\u001b[0m\n\u001b[0;32m    327\u001b[0m \u001b[38;5;28;01mif\u001b[39;00m \u001b[38;5;28mlen\u001b[39m(args) \u001b[38;5;241m>\u001b[39m num_allow_args:\n\u001b[0;32m    328\u001b[0m     warnings\u001b[38;5;241m.\u001b[39mwarn(\n\u001b[0;32m    329\u001b[0m         msg\u001b[38;5;241m.\u001b[39mformat(arguments\u001b[38;5;241m=\u001b[39m_format_argument_list(allow_args)),\n\u001b[0;32m    330\u001b[0m         \u001b[38;5;167;01mFutureWarning\u001b[39;00m,\n\u001b[0;32m    331\u001b[0m         stacklevel\u001b[38;5;241m=\u001b[39mfind_stack_level(),\n\u001b[0;32m    332\u001b[0m     )\n\u001b[1;32m--> 333\u001b[0m \u001b[38;5;28;01mreturn\u001b[39;00m \u001b[43mfunc\u001b[49m\u001b[43m(\u001b[49m\u001b[38;5;241;43m*\u001b[39;49m\u001b[43margs\u001b[49m\u001b[43m,\u001b[49m\u001b[43m \u001b[49m\u001b[38;5;241;43m*\u001b[39;49m\u001b[38;5;241;43m*\u001b[39;49m\u001b[43mkwargs\u001b[49m\u001b[43m)\u001b[49m\n",
      "File \u001b[1;32m~\\AppData\\Local\\Programs\\Python\\Python313\\Lib\\site-packages\\pandas\\core\\generic.py:2417\u001b[0m, in \u001b[0;36mNDFrame.to_excel\u001b[1;34m(self, excel_writer, sheet_name, na_rep, float_format, columns, header, index, index_label, startrow, startcol, engine, merge_cells, inf_rep, freeze_panes, storage_options, engine_kwargs)\u001b[0m\n\u001b[0;32m   2404\u001b[0m \u001b[38;5;28;01mfrom\u001b[39;00m \u001b[38;5;21;01mpandas\u001b[39;00m\u001b[38;5;21;01m.\u001b[39;00m\u001b[38;5;21;01mio\u001b[39;00m\u001b[38;5;21;01m.\u001b[39;00m\u001b[38;5;21;01mformats\u001b[39;00m\u001b[38;5;21;01m.\u001b[39;00m\u001b[38;5;21;01mexcel\u001b[39;00m \u001b[38;5;28;01mimport\u001b[39;00m ExcelFormatter\n\u001b[0;32m   2406\u001b[0m formatter \u001b[38;5;241m=\u001b[39m ExcelFormatter(\n\u001b[0;32m   2407\u001b[0m     df,\n\u001b[0;32m   2408\u001b[0m     na_rep\u001b[38;5;241m=\u001b[39mna_rep,\n\u001b[1;32m   (...)\u001b[0m\n\u001b[0;32m   2415\u001b[0m     inf_rep\u001b[38;5;241m=\u001b[39minf_rep,\n\u001b[0;32m   2416\u001b[0m )\n\u001b[1;32m-> 2417\u001b[0m \u001b[43mformatter\u001b[49m\u001b[38;5;241;43m.\u001b[39;49m\u001b[43mwrite\u001b[49m\u001b[43m(\u001b[49m\n\u001b[0;32m   2418\u001b[0m \u001b[43m    \u001b[49m\u001b[43mexcel_writer\u001b[49m\u001b[43m,\u001b[49m\n\u001b[0;32m   2419\u001b[0m \u001b[43m    \u001b[49m\u001b[43msheet_name\u001b[49m\u001b[38;5;241;43m=\u001b[39;49m\u001b[43msheet_name\u001b[49m\u001b[43m,\u001b[49m\n\u001b[0;32m   2420\u001b[0m \u001b[43m    \u001b[49m\u001b[43mstartrow\u001b[49m\u001b[38;5;241;43m=\u001b[39;49m\u001b[43mstartrow\u001b[49m\u001b[43m,\u001b[49m\n\u001b[0;32m   2421\u001b[0m \u001b[43m    \u001b[49m\u001b[43mstartcol\u001b[49m\u001b[38;5;241;43m=\u001b[39;49m\u001b[43mstartcol\u001b[49m\u001b[43m,\u001b[49m\n\u001b[0;32m   2422\u001b[0m \u001b[43m    \u001b[49m\u001b[43mfreeze_panes\u001b[49m\u001b[38;5;241;43m=\u001b[39;49m\u001b[43mfreeze_panes\u001b[49m\u001b[43m,\u001b[49m\n\u001b[0;32m   2423\u001b[0m \u001b[43m    \u001b[49m\u001b[43mengine\u001b[49m\u001b[38;5;241;43m=\u001b[39;49m\u001b[43mengine\u001b[49m\u001b[43m,\u001b[49m\n\u001b[0;32m   2424\u001b[0m \u001b[43m    \u001b[49m\u001b[43mstorage_options\u001b[49m\u001b[38;5;241;43m=\u001b[39;49m\u001b[43mstorage_options\u001b[49m\u001b[43m,\u001b[49m\n\u001b[0;32m   2425\u001b[0m \u001b[43m    \u001b[49m\u001b[43mengine_kwargs\u001b[49m\u001b[38;5;241;43m=\u001b[39;49m\u001b[43mengine_kwargs\u001b[49m\u001b[43m,\u001b[49m\n\u001b[0;32m   2426\u001b[0m \u001b[43m\u001b[49m\u001b[43m)\u001b[49m\n",
      "File \u001b[1;32m~\\AppData\\Local\\Programs\\Python\\Python313\\Lib\\site-packages\\pandas\\io\\formats\\excel.py:943\u001b[0m, in \u001b[0;36mExcelFormatter.write\u001b[1;34m(self, writer, sheet_name, startrow, startcol, freeze_panes, engine, storage_options, engine_kwargs)\u001b[0m\n\u001b[0;32m    941\u001b[0m     need_save \u001b[38;5;241m=\u001b[39m \u001b[38;5;28;01mFalse\u001b[39;00m\n\u001b[0;32m    942\u001b[0m \u001b[38;5;28;01melse\u001b[39;00m:\n\u001b[1;32m--> 943\u001b[0m     writer \u001b[38;5;241m=\u001b[39m \u001b[43mExcelWriter\u001b[49m\u001b[43m(\u001b[49m\n\u001b[0;32m    944\u001b[0m \u001b[43m        \u001b[49m\u001b[43mwriter\u001b[49m\u001b[43m,\u001b[49m\n\u001b[0;32m    945\u001b[0m \u001b[43m        \u001b[49m\u001b[43mengine\u001b[49m\u001b[38;5;241;43m=\u001b[39;49m\u001b[43mengine\u001b[49m\u001b[43m,\u001b[49m\n\u001b[0;32m    946\u001b[0m \u001b[43m        \u001b[49m\u001b[43mstorage_options\u001b[49m\u001b[38;5;241;43m=\u001b[39;49m\u001b[43mstorage_options\u001b[49m\u001b[43m,\u001b[49m\n\u001b[0;32m    947\u001b[0m \u001b[43m        \u001b[49m\u001b[43mengine_kwargs\u001b[49m\u001b[38;5;241;43m=\u001b[39;49m\u001b[43mengine_kwargs\u001b[49m\u001b[43m,\u001b[49m\n\u001b[0;32m    948\u001b[0m \u001b[43m    \u001b[49m\u001b[43m)\u001b[49m\n\u001b[0;32m    949\u001b[0m     need_save \u001b[38;5;241m=\u001b[39m \u001b[38;5;28;01mTrue\u001b[39;00m\n\u001b[0;32m    951\u001b[0m \u001b[38;5;28;01mtry\u001b[39;00m:\n",
      "File \u001b[1;32m~\\AppData\\Local\\Programs\\Python\\Python313\\Lib\\site-packages\\pandas\\io\\excel\\_openpyxl.py:61\u001b[0m, in \u001b[0;36mOpenpyxlWriter.__init__\u001b[1;34m(self, path, engine, date_format, datetime_format, mode, storage_options, if_sheet_exists, engine_kwargs, **kwargs)\u001b[0m\n\u001b[0;32m     57\u001b[0m \u001b[38;5;28;01mfrom\u001b[39;00m \u001b[38;5;21;01mopenpyxl\u001b[39;00m\u001b[38;5;21;01m.\u001b[39;00m\u001b[38;5;21;01mworkbook\u001b[39;00m \u001b[38;5;28;01mimport\u001b[39;00m Workbook\n\u001b[0;32m     59\u001b[0m engine_kwargs \u001b[38;5;241m=\u001b[39m combine_kwargs(engine_kwargs, kwargs)\n\u001b[1;32m---> 61\u001b[0m \u001b[38;5;28;43msuper\u001b[39;49m\u001b[43m(\u001b[49m\u001b[43m)\u001b[49m\u001b[38;5;241;43m.\u001b[39;49m\u001b[38;5;21;43m__init__\u001b[39;49m\u001b[43m(\u001b[49m\n\u001b[0;32m     62\u001b[0m \u001b[43m    \u001b[49m\u001b[43mpath\u001b[49m\u001b[43m,\u001b[49m\n\u001b[0;32m     63\u001b[0m \u001b[43m    \u001b[49m\u001b[43mmode\u001b[49m\u001b[38;5;241;43m=\u001b[39;49m\u001b[43mmode\u001b[49m\u001b[43m,\u001b[49m\n\u001b[0;32m     64\u001b[0m \u001b[43m    \u001b[49m\u001b[43mstorage_options\u001b[49m\u001b[38;5;241;43m=\u001b[39;49m\u001b[43mstorage_options\u001b[49m\u001b[43m,\u001b[49m\n\u001b[0;32m     65\u001b[0m \u001b[43m    \u001b[49m\u001b[43mif_sheet_exists\u001b[49m\u001b[38;5;241;43m=\u001b[39;49m\u001b[43mif_sheet_exists\u001b[49m\u001b[43m,\u001b[49m\n\u001b[0;32m     66\u001b[0m \u001b[43m    \u001b[49m\u001b[43mengine_kwargs\u001b[49m\u001b[38;5;241;43m=\u001b[39;49m\u001b[43mengine_kwargs\u001b[49m\u001b[43m,\u001b[49m\n\u001b[0;32m     67\u001b[0m \u001b[43m\u001b[49m\u001b[43m)\u001b[49m\n\u001b[0;32m     69\u001b[0m \u001b[38;5;66;03m# ExcelWriter replaced \"a\" by \"r+\" to allow us to first read the excel file from\u001b[39;00m\n\u001b[0;32m     70\u001b[0m \u001b[38;5;66;03m# the file and later write to it\u001b[39;00m\n\u001b[0;32m     71\u001b[0m \u001b[38;5;28;01mif\u001b[39;00m \u001b[38;5;124m\"\u001b[39m\u001b[38;5;124mr+\u001b[39m\u001b[38;5;124m\"\u001b[39m \u001b[38;5;129;01min\u001b[39;00m \u001b[38;5;28mself\u001b[39m\u001b[38;5;241m.\u001b[39m_mode:  \u001b[38;5;66;03m# Load from existing workbook\u001b[39;00m\n",
      "File \u001b[1;32m~\\AppData\\Local\\Programs\\Python\\Python313\\Lib\\site-packages\\pandas\\io\\excel\\_base.py:1246\u001b[0m, in \u001b[0;36mExcelWriter.__init__\u001b[1;34m(self, path, engine, date_format, datetime_format, mode, storage_options, if_sheet_exists, engine_kwargs)\u001b[0m\n\u001b[0;32m   1242\u001b[0m \u001b[38;5;28mself\u001b[39m\u001b[38;5;241m.\u001b[39m_handles \u001b[38;5;241m=\u001b[39m IOHandles(\n\u001b[0;32m   1243\u001b[0m     cast(IO[\u001b[38;5;28mbytes\u001b[39m], path), compression\u001b[38;5;241m=\u001b[39m{\u001b[38;5;124m\"\u001b[39m\u001b[38;5;124mcompression\u001b[39m\u001b[38;5;124m\"\u001b[39m: \u001b[38;5;28;01mNone\u001b[39;00m}\n\u001b[0;32m   1244\u001b[0m )\n\u001b[0;32m   1245\u001b[0m \u001b[38;5;28;01mif\u001b[39;00m \u001b[38;5;129;01mnot\u001b[39;00m \u001b[38;5;28misinstance\u001b[39m(path, ExcelWriter):\n\u001b[1;32m-> 1246\u001b[0m     \u001b[38;5;28mself\u001b[39m\u001b[38;5;241m.\u001b[39m_handles \u001b[38;5;241m=\u001b[39m \u001b[43mget_handle\u001b[49m\u001b[43m(\u001b[49m\n\u001b[0;32m   1247\u001b[0m \u001b[43m        \u001b[49m\u001b[43mpath\u001b[49m\u001b[43m,\u001b[49m\u001b[43m \u001b[49m\u001b[43mmode\u001b[49m\u001b[43m,\u001b[49m\u001b[43m \u001b[49m\u001b[43mstorage_options\u001b[49m\u001b[38;5;241;43m=\u001b[39;49m\u001b[43mstorage_options\u001b[49m\u001b[43m,\u001b[49m\u001b[43m \u001b[49m\u001b[43mis_text\u001b[49m\u001b[38;5;241;43m=\u001b[39;49m\u001b[38;5;28;43;01mFalse\u001b[39;49;00m\n\u001b[0;32m   1248\u001b[0m \u001b[43m    \u001b[49m\u001b[43m)\u001b[49m\n\u001b[0;32m   1249\u001b[0m \u001b[38;5;28mself\u001b[39m\u001b[38;5;241m.\u001b[39m_cur_sheet \u001b[38;5;241m=\u001b[39m \u001b[38;5;28;01mNone\u001b[39;00m\n\u001b[0;32m   1251\u001b[0m \u001b[38;5;28;01mif\u001b[39;00m date_format \u001b[38;5;129;01mis\u001b[39;00m \u001b[38;5;28;01mNone\u001b[39;00m:\n",
      "File \u001b[1;32m~\\AppData\\Local\\Programs\\Python\\Python313\\Lib\\site-packages\\pandas\\io\\common.py:882\u001b[0m, in \u001b[0;36mget_handle\u001b[1;34m(path_or_buf, mode, encoding, compression, memory_map, is_text, errors, storage_options)\u001b[0m\n\u001b[0;32m    873\u001b[0m         handle \u001b[38;5;241m=\u001b[39m \u001b[38;5;28mopen\u001b[39m(\n\u001b[0;32m    874\u001b[0m             handle,\n\u001b[0;32m    875\u001b[0m             ioargs\u001b[38;5;241m.\u001b[39mmode,\n\u001b[1;32m   (...)\u001b[0m\n\u001b[0;32m    878\u001b[0m             newline\u001b[38;5;241m=\u001b[39m\u001b[38;5;124m\"\u001b[39m\u001b[38;5;124m\"\u001b[39m,\n\u001b[0;32m    879\u001b[0m         )\n\u001b[0;32m    880\u001b[0m     \u001b[38;5;28;01melse\u001b[39;00m:\n\u001b[0;32m    881\u001b[0m         \u001b[38;5;66;03m# Binary mode\u001b[39;00m\n\u001b[1;32m--> 882\u001b[0m         handle \u001b[38;5;241m=\u001b[39m \u001b[38;5;28;43mopen\u001b[39;49m\u001b[43m(\u001b[49m\u001b[43mhandle\u001b[49m\u001b[43m,\u001b[49m\u001b[43m \u001b[49m\u001b[43mioargs\u001b[49m\u001b[38;5;241;43m.\u001b[39;49m\u001b[43mmode\u001b[49m\u001b[43m)\u001b[49m\n\u001b[0;32m    883\u001b[0m     handles\u001b[38;5;241m.\u001b[39mappend(handle)\n\u001b[0;32m    885\u001b[0m \u001b[38;5;66;03m# Convert BytesIO or file objects passed with an encoding\u001b[39;00m\n",
      "\u001b[1;31mPermissionError\u001b[0m: [Errno 13] Permission denied: 'C:\\\\Users\\\\Dell\\\\Downloads\\\\Antarctica Global\\\\Assignment\\\\Dataset\\\\merged_dataset.xlsx'"
     ]
    }
   ],
   "source": [
    "import pandas as pd\n",
    "\n",
    "# Load the dataset\n",
    "file_path = r\"C:\\Users\\Dell\\Downloads\\Antarctica Global\\Assignment\\Dataset\\merged_dataset.xlsx\"\n",
    "df = pd.read_excel(file_path)\n",
    "\n",
    "# Define a set for weekend days\n",
    "weekend_days = {'Sat', 'Sun'}\n",
    "\n",
    "# Create a new column 'DayType' based on the 'Day' column\n",
    "df['DayType'] = df['Day'].apply(lambda x: 'Weekend' if x in weekend_days else 'Weekday')\n",
    "\n",
    "# Save the updated DataFrame back to Excel\n",
    "output_path = r'C:\\Users\\Dell\\Downloads\\Antarctica Global\\Assignment\\Dataset\\merged_dataset.xlsx'\n",
    "df.to_excel(output_path, index=False)\n",
    "\n",
    "print(\"File saved successfully at:\", output_path)\n"
   ]
  },
  {
   "cell_type": "code",
   "execution_count": 114,
   "id": "b0413875-033b-4f33-9dde-5a67d517790c",
   "metadata": {},
   "outputs": [
    {
     "name": "stdout",
     "output_type": "stream",
     "text": [
      "Comparative Day Analysis Summary:\n",
      "DayType Employee  Avg Leads - Weekday  Avg Leads - Weekend  \\\n",
      "0            Ali                10.84                  0.0   \n",
      "1           Arya                10.53                  0.0   \n",
      "2            Raj                 9.58                  1.0   \n",
      "\n",
      "DayType  Days Count - Weekday  Days Count - Weekend  Total Leads - Weekday  \\\n",
      "0                          45                    16                    488   \n",
      "1                          45                    16                    474   \n",
      "2                          45                    16                    431   \n",
      "\n",
      "DayType  Total Leads - Weekend  \n",
      "0                            0  \n",
      "1                            0  \n",
      "2                           16  \n"
     ]
    }
   ],
   "source": [
    "import pandas as pd\n",
    "\n",
    "# Load updated dataset\n",
    "file_path = r\"C:\\Users\\Dell\\Downloads\\Antarctica Global\\Assignment\\Dataset\\merged_dataset.xlsx\"\n",
    "df = pd.read_excel(file_path)\n",
    "\n",
    "# Group by Employee and DayType to calculate average, count, and total leads\n",
    "summary_df = df.groupby(['Employee', 'DayType']).agg(\n",
    "    Avg_Leads=('Leads', 'mean'),\n",
    "    Days_Count=('Leads', 'count'),\n",
    "    Total_Leads=('Leads', 'sum')\n",
    ").reset_index()\n",
    "\n",
    "# Pivot to wide format for each metric\n",
    "pivot_avg = summary_df.pivot(index='Employee', columns='DayType', values='Avg_Leads').add_prefix('Avg Leads - ')\n",
    "pivot_days = summary_df.pivot(index='Employee', columns='DayType', values='Days_Count').add_prefix('Days Count - ')\n",
    "pivot_total = summary_df.pivot(index='Employee', columns='DayType', values='Total_Leads').add_prefix('Total Leads - ')\n",
    "\n",
    "# Combine all metrics into a final summary table\n",
    "final_summary = pd.concat([pivot_avg, pivot_days, pivot_total], axis=1).reset_index()\n",
    "\n",
    "# Round average leads to 2 decimals\n",
    "final_summary = final_summary.round(2)\n",
    "\n",
    "# Display the result\n",
    "print(\"Comparative Day Analysis Summary:\")\n",
    "print(final_summary)\n"
   ]
  },
  {
   "cell_type": "markdown",
   "id": "b648719f-1ded-4997-9529-c5af7f50c2e4",
   "metadata": {},
   "source": [
    "### Comparative Day Analysis:\n",
    "\n",
    "##### Ali and Arya generated an average of 10.84 and 10.53 leads on weekdays respectively, but 0 leads on weekends, showing they were not productive or possibly inactive during weekends.\n",
    "\n",
    "##### Raj generated an average of 9.58 leads on weekdays and 1.0 lead on weekends, showing some weekend activity but with significantly lower output.\n",
    "\n",
    "##### Each associate had 45 weekdays and 16 weekend days. Total lead generation on weekends was negligible for all, especially zero for Ali and Arya.\n",
    "\n",
    "### Conclusion:\n",
    "##### All associates perform significantly better on weekdays, with minimal to no output on weekends, indicating that lead generation is primarily a weekday activity."
   ]
  },
  {
   "cell_type": "markdown",
   "id": "99e8ca60-a792-4e12-b892-a0d3b722c3e8",
   "metadata": {},
   "source": [
    "## 9. Predictive Analysis: Using a simple linear regression model, predict the number of leads each associate is expected to generate based on their time spent on lead generation. How accurate is the model when compared to actual data?"
   ]
  },
  {
   "cell_type": "code",
   "execution_count": 115,
   "id": "0308eaf1-c0c2-46cf-9b82-3afc7e188ad8",
   "metadata": {},
   "outputs": [
    {
     "name": "stdout",
     "output_type": "stream",
     "text": [
      "\n",
      "--- Ali ---\n",
      "R² Score: 0.83\n",
      "Mean Squared Error: 6.34\n"
     ]
    },
    {
     "data": {
      "image/png": "[encoded data removed]",
      "text/plain": [
       "<Figure size 600x400 with 1 Axes>"
      ]
     },
     "metadata": {},
     "output_type": "display_data"
    },
    {
     "name": "stdout",
     "output_type": "stream",
     "text": [
      "\n",
      "--- Arya ---\n",
      "R² Score: 0.87\n",
      "Mean Squared Error: 4.19\n"
     ]
    },
    {
     "data": {
      "image/png": "[encoded data removed]",
      "text/plain": [
       "<Figure size 600x400 with 1 Axes>"
      ]
     },
     "metadata": {},
     "output_type": "display_data"
    },
    {
     "name": "stdout",
     "output_type": "stream",
     "text": [
      "\n",
      "--- Raj ---\n",
      "R² Score: 0.91\n",
      "Mean Squared Error: 2.92\n"
     ]
    },
    {
     "data": {
      "image/png": "[encoded data removed]",
      "text/plain": [
       "<Figure size 600x400 with 1 Axes>"
      ]
     },
     "metadata": {},
     "output_type": "display_data"
    }
   ],
   "source": [
    "import pandas as pd\n",
    "from sklearn.linear_model import LinearRegression\n",
    "from sklearn.metrics import mean_squared_error, r2_score\n",
    "import matplotlib.pyplot as plt\n",
    "import seaborn as sns\n",
    "\n",
    "# Load dataset\n",
    "file_path = r\"C:\\Users\\Dell\\Downloads\\Antarctica Global\\Assignment\\Dataset\\merged_dataset.xlsx\"\n",
    "df = pd.read_excel(file_path)\n",
    "\n",
    "# Drop rows with missing values in key columns\n",
    "df = df.dropna(subset=['Leads', 'Time spent on LG (mins)'])\n",
    "\n",
    "# Function to fit and evaluate model for each employee\n",
    "def evaluate_model(employee_df, employee_name):\n",
    "    X = employee_df[['Time spent on LG (mins)']]\n",
    "    y = employee_df['Leads']\n",
    "    \n",
    "    # Train linear regression model\n",
    "    model = LinearRegression()\n",
    "    model.fit(X, y)\n",
    "    \n",
    "    # Predict\n",
    "    y_pred = model.predict(X)\n",
    "    \n",
    "    # Evaluation metrics\n",
    "    mse = mean_squared_error(y, y_pred)\n",
    "    r2 = r2_score(y, y_pred)\n",
    "    \n",
    "    print(f\"\\n--- {employee_name} ---\")\n",
    "    print(f\"R² Score: {r2:.2f}\")\n",
    "    print(f\"Mean Squared Error: {mse:.2f}\")\n",
    "    \n",
    "    # Plot actual vs predicted\n",
    "    plt.figure(figsize=(6,4))\n",
    "    sns.scatterplot(x=X['Time spent on LG (mins)'], y=y, color='blue', label='Actual')\n",
    "    sns.lineplot(x=X['Time spent on LG (mins)'], y=y_pred, color='red', label='Predicted')\n",
    "    plt.title(f'{employee_name} - Leads vs Time Spent')\n",
    "    plt.xlabel('Time Spent on LG (mins)')\n",
    "    plt.ylabel('Leads')\n",
    "    plt.legend()\n",
    "    plt.tight_layout()\n",
    "    plt.show()\n",
    "    \n",
    "    return model, r2, mse\n",
    "\n",
    "# Run analysis for each associate\n",
    "for employee in df['Employee'].unique():\n",
    "    emp_df = df[df['Employee'] == employee]\n",
    "    evaluate_model(emp_df, employee)\n"
   ]
  },
  {
   "cell_type": "code",
   "execution_count": null,
   "id": "4c4a99da-ce25-4dba-8cb9-5092f2643975",
   "metadata": {},
   "outputs": [],
   "source": []
  }
 ],
 "metadata": {
  "kernelspec": {
   "display_name": "Python 3 (ipykernel)",
   "language": "python",
   "name": "python3"
  },
  "language_info": {
   "codemirror_mode": {
    "name": "ipython",
    "version": 3
   },
   "file_extension": ".py",
   "mimetype": "text/x-python",
   "name": "python",
   "nbconvert_exporter": "python",
   "pygments_lexer": "ipython3",
   "version": "3.13.1"
  }
 },
 "nbformat": 4,
 "nbformat_minor": 5
}
